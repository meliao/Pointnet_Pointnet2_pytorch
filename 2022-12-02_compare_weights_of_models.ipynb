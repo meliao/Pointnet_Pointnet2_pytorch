{
 "cells": [
  {
   "cell_type": "code",
   "execution_count": 1,
   "id": "44afd7d9",
   "metadata": {},
   "outputs": [],
   "source": [
    "import os\n",
    "import sys\n",
    "import torch\n",
    "import numpy as np\n",
    "\n",
    "import datetime\n",
    "import logging\n",
    "import importlib\n",
    "import shutil\n",
    "import argparse\n",
    "\n",
    "from pathlib import Path\n",
    "# from tqdm import tqdm\n",
    "from data_utils.MoleculeDataSet import PointCloudMoleculeDataSet, load_and_align_QM7\n",
    "from data_utils.plotting_utils import make_training_progress_plot, make_predictions_plot\n",
    "\n",
    "# BASE_DIR = os.path.dirname(os.path.abspath(__file__))\n",
    "ROOT_DIR = '/Users/owen/projects/Pointnet_Pointnet2_pytorch/'\n",
    "sys.path.append(os.path.join(ROOT_DIR, 'models'))\n",
    "\n",
    "\n",
    "from train_PointNet_QM7 import test"
   ]
  },
  {
   "cell_type": "markdown",
   "id": "6b837a46",
   "metadata": {},
   "source": [
    "# Set up paths\n",
    "\n",
    "I have pre-trained a model for 10 epochs and saved the model's weights at each epoch in `CHECKPOINT_DIR`."
   ]
  },
  {
   "cell_type": "code",
   "execution_count": 3,
   "id": "53c3f62b",
   "metadata": {},
   "outputs": [],
   "source": [
    "module = importlib.import_module('pointnet2_reg_msg')"
   ]
  },
  {
   "cell_type": "code",
   "execution_count": 4,
   "id": "a2c8eae1",
   "metadata": {},
   "outputs": [],
   "source": [
    "CHECKPOINT_DIR = '/local/meliao/projects/Pointnet_Pointnet2_pytorch/log/tmp/regression_QM7/2022-12-02_09-26/checkpoints'"
   ]
  },
  {
   "cell_type": "code",
   "execution_count": 16,
   "id": "c9824250",
   "metadata": {},
   "outputs": [],
   "source": [
    "def compare_two_models(checkpoint_1_fp: str, checkpoint_2_fp: str) -> float:\n",
    "    model_1 = module.PointNet2MSGModel(n_centroids_1=10,\n",
    "                                        msg_radii_1=[2., 4., 8.],\n",
    "                                        msg_nsample_1=[4, 8, 16],\n",
    "                                        n_centroids_2=4,\n",
    "                                        msg_radii_2=[2., 4., 8.],\n",
    "                                        msg_nsample_2=[2, 4, 8],\n",
    "                                        in_channels=5,\n",
    "                                        out_channels=1)\n",
    "    checkpoint_1_data = torch.load(checkpoint_1_fp)\n",
    "    model_1.load_state_dict(checkpoint_1_data['model_state_dict'])\n",
    "    \n",
    "    model_2 = module.PointNet2MSGModel(n_centroids_1=10,\n",
    "                                        msg_radii_1=[2., 4., 8.],\n",
    "                                        msg_nsample_1=[4, 8, 16],\n",
    "                                        n_centroids_2=4,\n",
    "                                        msg_radii_2=[2., 4., 8.],\n",
    "                                        msg_nsample_2=[2, 4, 8],\n",
    "                                        in_channels=5,\n",
    "                                        out_channels=1)\n",
    "    \n",
    "    checkpoint_2_data = torch.load(checkpoint_2_fp)\n",
    "    model_2.load_state_dict(checkpoint_2_data['model_state_dict'])\n",
    "    \n",
    "    \n",
    "    param_lst_1 = [x for x in model_1.parameters()]\n",
    "    param_lst_2 = [x for x in model_2.parameters()]\n",
    "    \n",
    "    lst_of_l2_diffs = []\n",
    "    lst_of_sizes = []\n",
    "    for weight_1, weight_2 in zip(param_lst_1, param_lst_2):\n",
    "        diff = torch.linalg.norm(weight_1 - weight_2)\n",
    "        size = weight_1.size()\n",
    "        print(f\"DIFF: {diff}, SIZE: {size}, and NAME: {weight_1.name}\")\n",
    "        lst_of_l2_diffs.append(diff)\n",
    "        lst_of_sizes.append(size)\n",
    "    return None"
   ]
  },
  {
   "cell_type": "code",
   "execution_count": 17,
   "id": "cd076845",
   "metadata": {},
   "outputs": [
    {
     "name": "stdout",
     "output_type": "stream",
     "text": [
      "DIFF: 0.09134529531002045, SIZE: torch.Size([32, 8, 1, 1]), and NAME: None\n",
      "DIFF: 0.03337373957037926, SIZE: torch.Size([32]), and NAME: None\n",
      "DIFF: 0.18379178643226624, SIZE: torch.Size([32, 32, 1, 1]), and NAME: None\n",
      "DIFF: 0.02981395646929741, SIZE: torch.Size([32]), and NAME: None\n",
      "DIFF: 0.24057872593402863, SIZE: torch.Size([64, 32, 1, 1]), and NAME: None\n",
      "DIFF: 0.03959996625781059, SIZE: torch.Size([64]), and NAME: None\n",
      "DIFF: 0.11221829056739807, SIZE: torch.Size([64, 8, 1, 1]), and NAME: None\n",
      "DIFF: 0.04000828415155411, SIZE: torch.Size([64]), and NAME: None\n",
      "DIFF: 0.33089372515678406, SIZE: torch.Size([64, 64, 1, 1]), and NAME: None\n",
      "DIFF: 0.04048740491271019, SIZE: torch.Size([64]), and NAME: None\n",
      "DIFF: 0.46834635734558105, SIZE: torch.Size([128, 64, 1, 1]), and NAME: None\n",
      "DIFF: 0.06072547286748886, SIZE: torch.Size([128]), and NAME: None\n",
      "DIFF: 0.12170299142599106, SIZE: torch.Size([64, 8, 1, 1]), and NAME: None\n",
      "DIFF: 0.037835754454135895, SIZE: torch.Size([64]), and NAME: None\n",
      "DIFF: 0.41375645995140076, SIZE: torch.Size([96, 64, 1, 1]), and NAME: None\n",
      "DIFF: 0.051139719784259796, SIZE: torch.Size([96]), and NAME: None\n",
      "DIFF: 0.5803238749504089, SIZE: torch.Size([128, 96, 1, 1]), and NAME: None\n",
      "DIFF: 0.058975037187337875, SIZE: torch.Size([128]), and NAME: None\n",
      "DIFF: 0.035520076751708984, SIZE: torch.Size([32]), and NAME: None\n",
      "DIFF: 0.03505362942814827, SIZE: torch.Size([32]), and NAME: None\n",
      "DIFF: 0.029087746515870094, SIZE: torch.Size([32]), and NAME: None\n",
      "DIFF: 0.032131657004356384, SIZE: torch.Size([32]), and NAME: None\n",
      "DIFF: 0.043961334973573685, SIZE: torch.Size([64]), and NAME: None\n",
      "DIFF: 0.045484188944101334, SIZE: torch.Size([64]), and NAME: None\n",
      "DIFF: 0.039084091782569885, SIZE: torch.Size([64]), and NAME: None\n",
      "DIFF: 0.038286395370960236, SIZE: torch.Size([64]), and NAME: None\n",
      "DIFF: 0.04060526564717293, SIZE: torch.Size([64]), and NAME: None\n",
      "DIFF: 0.036631029099226, SIZE: torch.Size([64]), and NAME: None\n",
      "DIFF: 0.059007421135902405, SIZE: torch.Size([128]), and NAME: None\n",
      "DIFF: 0.05864575132727623, SIZE: torch.Size([128]), and NAME: None\n",
      "DIFF: 0.03701626509428024, SIZE: torch.Size([64]), and NAME: None\n",
      "DIFF: 0.03921234980225563, SIZE: torch.Size([64]), and NAME: None\n",
      "DIFF: 0.04885244369506836, SIZE: torch.Size([96]), and NAME: None\n",
      "DIFF: 0.05076594278216362, SIZE: torch.Size([96]), and NAME: None\n",
      "DIFF: 0.056829024106264114, SIZE: torch.Size([128]), and NAME: None\n",
      "DIFF: 0.052207671105861664, SIZE: torch.Size([128]), and NAME: None\n",
      "DIFF: 0.7446387410163879, SIZE: torch.Size([64, 323, 1, 1]), and NAME: None\n",
      "DIFF: 0.049239061772823334, SIZE: torch.Size([64]), and NAME: None\n",
      "DIFF: 0.3249013125896454, SIZE: torch.Size([64, 64, 1, 1]), and NAME: None\n",
      "DIFF: 0.05275573208928108, SIZE: torch.Size([64]), and NAME: None\n",
      "DIFF: 0.46274203062057495, SIZE: torch.Size([128, 64, 1, 1]), and NAME: None\n",
      "DIFF: 0.10643651336431503, SIZE: torch.Size([128]), and NAME: None\n",
      "DIFF: 1.0458564758300781, SIZE: torch.Size([128, 323, 1, 1]), and NAME: None\n",
      "DIFF: 0.0642676055431366, SIZE: torch.Size([128]), and NAME: None\n",
      "DIFF: 0.6543144583702087, SIZE: torch.Size([128, 128, 1, 1]), and NAME: None\n",
      "DIFF: 0.06178519129753113, SIZE: torch.Size([128]), and NAME: None\n",
      "DIFF: 0.9273738861083984, SIZE: torch.Size([256, 128, 1, 1]), and NAME: None\n",
      "DIFF: 0.1067250594496727, SIZE: torch.Size([256]), and NAME: None\n",
      "DIFF: 1.0707709789276123, SIZE: torch.Size([128, 323, 1, 1]), and NAME: None\n",
      "DIFF: 0.06220027804374695, SIZE: torch.Size([128]), and NAME: None\n",
      "DIFF: 0.660957932472229, SIZE: torch.Size([128, 128, 1, 1]), and NAME: None\n",
      "DIFF: 0.06249399110674858, SIZE: torch.Size([128]), and NAME: None\n",
      "DIFF: 0.9375137686729431, SIZE: torch.Size([256, 128, 1, 1]), and NAME: None\n",
      "DIFF: 0.09232140332460403, SIZE: torch.Size([256]), and NAME: None\n",
      "DIFF: 0.04040246829390526, SIZE: torch.Size([64]), and NAME: None\n",
      "DIFF: 0.03926350176334381, SIZE: torch.Size([64]), and NAME: None\n",
      "DIFF: 0.04598715901374817, SIZE: torch.Size([64]), and NAME: None\n",
      "DIFF: 0.04279714822769165, SIZE: torch.Size([64]), and NAME: None\n",
      "DIFF: 0.0598110593855381, SIZE: torch.Size([128]), and NAME: None\n",
      "DIFF: 0.06941083073616028, SIZE: torch.Size([128]), and NAME: None\n",
      "DIFF: 0.059282559901475906, SIZE: torch.Size([128]), and NAME: None\n",
      "DIFF: 0.0574544258415699, SIZE: torch.Size([128]), and NAME: None\n",
      "DIFF: 0.056242022663354874, SIZE: torch.Size([128]), and NAME: None\n",
      "DIFF: 0.057516809552907944, SIZE: torch.Size([128]), and NAME: None\n",
      "DIFF: 0.08407864719629288, SIZE: torch.Size([256]), and NAME: None\n",
      "DIFF: 0.08443328738212585, SIZE: torch.Size([256]), and NAME: None\n",
      "DIFF: 0.05527528002858162, SIZE: torch.Size([128]), and NAME: None\n",
      "DIFF: 0.05770115554332733, SIZE: torch.Size([128]), and NAME: None\n",
      "DIFF: 0.05696900188922882, SIZE: torch.Size([128]), and NAME: None\n",
      "DIFF: 0.05703887715935707, SIZE: torch.Size([128]), and NAME: None\n",
      "DIFF: 0.07990489155054092, SIZE: torch.Size([256]), and NAME: None\n",
      "DIFF: 0.08311984688043594, SIZE: torch.Size([256]), and NAME: None\n",
      "DIFF: 2.0964038372039795, SIZE: torch.Size([256, 643, 1, 1]), and NAME: None\n",
      "DIFF: 0.0895296186208725, SIZE: torch.Size([256]), and NAME: None\n",
      "DIFF: 1.8715237379074097, SIZE: torch.Size([512, 256, 1, 1]), and NAME: None\n",
      "DIFF: 0.17091907560825348, SIZE: torch.Size([512]), and NAME: None\n",
      "DIFF: 3.740541934967041, SIZE: torch.Size([1024, 512, 1, 1]), and NAME: None\n",
      "DIFF: 0.2835027873516083, SIZE: torch.Size([1024]), and NAME: None\n",
      "DIFF: 0.08174149692058563, SIZE: torch.Size([256]), and NAME: None\n",
      "DIFF: 0.08121359348297119, SIZE: torch.Size([256]), and NAME: None\n",
      "DIFF: 0.11116862297058105, SIZE: torch.Size([512]), and NAME: None\n",
      "DIFF: 0.11905529350042343, SIZE: torch.Size([512]), and NAME: None\n",
      "DIFF: 0.1626254916191101, SIZE: torch.Size([1024]), and NAME: None\n",
      "DIFF: 0.16485203802585602, SIZE: torch.Size([1024]), and NAME: None\n",
      "DIFF: 3.7185757160186768, SIZE: torch.Size([512, 1024]), and NAME: None\n",
      "DIFF: 0.18800318241119385, SIZE: torch.Size([512]), and NAME: None\n",
      "DIFF: 0.12027237564325333, SIZE: torch.Size([512]), and NAME: None\n",
      "DIFF: 0.11657419055700302, SIZE: torch.Size([512]), and NAME: None\n",
      "DIFF: 1.8700767755508423, SIZE: torch.Size([256, 512]), and NAME: None\n",
      "DIFF: 0.14378459751605988, SIZE: torch.Size([256]), and NAME: None\n",
      "DIFF: 0.26608434319496155, SIZE: torch.Size([256]), and NAME: None\n",
      "DIFF: 0.2706625461578369, SIZE: torch.Size([256]), and NAME: None\n",
      "DIFF: 0.2854827046394348, SIZE: torch.Size([1, 256]), and NAME: None\n",
      "DIFF: 0.018962863832712173, SIZE: torch.Size([1]), and NAME: None\n"
     ]
    }
   ],
   "source": [
    "fp_1 = os.path.join(CHECKPOINT_DIR, 'epoch_0.pth')\n",
    "fp_2 = os.path.join(CHECKPOINT_DIR, 'epoch_1.pth')\n",
    "\n",
    "out = compare_two_models(fp_1, fp_2)"
   ]
  },
  {
   "cell_type": "markdown",
   "id": "87990beb",
   "metadata": {},
   "source": [
    "# Data Loading"
   ]
  },
  {
   "cell_type": "code",
   "execution_count": 3,
   "id": "03caaf93",
   "metadata": {},
   "outputs": [],
   "source": [
    "DATA_FP = '/local/meliao/projects/invariant-random-features/data/qm7/qm7.mat'\n",
    "N_TRAIN = 500\n",
    "N_TEST = 100\n",
    "BATCH_SIZE = 128\n",
    "\n",
    "train_dset, val_dset, test_dset = load_and_align_QM7(fp=DATA_FP,\n",
    "                                                        n_train=N_TRAIN,\n",
    "                                                        n_test=N_TEST,\n",
    "                                                        validation_set_fraction=0.1)"
   ]
  },
  {
   "cell_type": "code",
   "execution_count": 4,
   "id": "c112f425",
   "metadata": {},
   "outputs": [],
   "source": [
    "train_loader = torch.utils.data.DataLoader(train_dset, batch_size=BATCH_SIZE, shuffle=True)\n",
    "val_loader = torch.utils.data.DataLoader(val_dset, batch_size=BATCH_SIZE, shuffle=True)\n",
    "test_loader = torch.utils.data.DataLoader(test_dset, batch_size=BATCH_SIZE, shuffle=True)"
   ]
  },
  {
   "cell_type": "markdown",
   "id": "b64727f6",
   "metadata": {},
   "source": [
    "# Compile model and optimizer"
   ]
  },
  {
   "cell_type": "code",
   "execution_count": 8,
   "id": "8888a811",
   "metadata": {},
   "outputs": [
    {
     "ename": "NameError",
     "evalue": "name 'device' is not defined",
     "output_type": "error",
     "traceback": [
      "\u001b[0;31m---------------------------------------------------------------------------\u001b[0m",
      "\u001b[0;31mNameError\u001b[0m                                 Traceback (most recent call last)",
      "\u001b[0;32m<ipython-input-8-3007f73a4301>\u001b[0m in \u001b[0;36m<module>\u001b[0;34m\u001b[0m\n\u001b[1;32m     13\u001b[0m \u001b[0;34m'''MOVE EVERYTHING TO THE CORRECT DEVICE'''\u001b[0m\u001b[0;34m\u001b[0m\u001b[0;34m\u001b[0m\u001b[0m\n\u001b[1;32m     14\u001b[0m \u001b[0;34m\u001b[0m\u001b[0m\n\u001b[0;32m---> 15\u001b[0;31m \u001b[0mmodel\u001b[0m\u001b[0;34m.\u001b[0m\u001b[0mto\u001b[0m\u001b[0;34m(\u001b[0m\u001b[0mdevice\u001b[0m\u001b[0;34m)\u001b[0m\u001b[0;34m\u001b[0m\u001b[0;34m\u001b[0m\u001b[0m\n\u001b[0m\u001b[1;32m     16\u001b[0m \u001b[0mloss_fn\u001b[0m\u001b[0;34m.\u001b[0m\u001b[0mto\u001b[0m\u001b[0;34m(\u001b[0m\u001b[0mdevice\u001b[0m\u001b[0;34m)\u001b[0m\u001b[0;34m\u001b[0m\u001b[0;34m\u001b[0m\u001b[0m\n",
      "\u001b[0;31mNameError\u001b[0m: name 'device' is not defined"
     ]
    }
   ],
   "source": [
    "model = module.PointNet2MSGModel(n_centroids_1=10,\n",
    "                                        msg_radii_1=[2., 4., 8.],\n",
    "                                        msg_nsample_1=[4, 8, 16],\n",
    "                                        n_centroids_2=4,\n",
    "                                        msg_radii_2=[2., 4., 8.],\n",
    "                                        msg_nsample_2=[2, 4, 8],\n",
    "                                        in_channels=5,\n",
    "                                        out_channels=1)\n",
    "\n",
    "loss_fn = module.get_loss()\n",
    "\n",
    "\n",
    "'''MOVE EVERYTHING TO THE CORRECT DEVICE'''\n"
   ]
  },
  {
   "cell_type": "code",
   "execution_count": null,
   "id": "5eb9de27",
   "metadata": {},
   "outputs": [],
   "source": []
  },
  {
   "cell_type": "code",
   "execution_count": null,
   "id": "129c6419",
   "metadata": {},
   "outputs": [],
   "source": []
  },
  {
   "cell_type": "code",
   "execution_count": null,
   "id": "65cd6158",
   "metadata": {},
   "outputs": [],
   "source": []
  }
 ],
 "metadata": {
  "kernelspec": {
   "display_name": "Python 3",
   "language": "python",
   "name": "python3"
  },
  "language_info": {
   "codemirror_mode": {
    "name": "ipython",
    "version": 3
   },
   "file_extension": ".py",
   "mimetype": "text/x-python",
   "name": "python",
   "nbconvert_exporter": "python",
   "pygments_lexer": "ipython3",
   "version": "3.7.10"
  }
 },
 "nbformat": 4,
 "nbformat_minor": 5
}
