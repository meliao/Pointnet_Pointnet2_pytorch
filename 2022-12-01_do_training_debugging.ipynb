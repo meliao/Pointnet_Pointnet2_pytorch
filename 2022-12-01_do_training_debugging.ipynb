{
 "cells": [
  {
   "cell_type": "code",
   "execution_count": 1,
   "id": "44afd7d9",
   "metadata": {},
   "outputs": [],
   "source": [
    "import os\n",
    "import sys\n",
    "import torch\n",
    "import numpy as np\n",
    "\n",
    "import datetime\n",
    "import logging\n",
    "import importlib\n",
    "import shutil\n",
    "import argparse\n",
    "\n",
    "from pathlib import Path\n",
    "# from tqdm import tqdm\n",
    "from data_utils.MoleculeDataSet import PointCloudMoleculeDataSet, load_and_align_QM7\n",
    "from data_utils.plotting_utils import make_training_progress_plot, make_predictions_plot\n",
    "\n",
    "# BASE_DIR = os.path.dirname(os.path.abspath(__file__))\n",
    "ROOT_DIR = '/Users/owen/projects/Pointnet_Pointnet2_pytorch/'\n",
    "sys.path.append(os.path.join(ROOT_DIR, 'models'))\n",
    "\n",
    "\n",
    "from train_PointNet_QM7 import test"
   ]
  },
  {
   "cell_type": "markdown",
   "id": "87990beb",
   "metadata": {},
   "source": [
    "# Data Loading"
   ]
  },
  {
   "cell_type": "code",
   "execution_count": 3,
   "id": "03caaf93",
   "metadata": {},
   "outputs": [],
   "source": [
    "DATA_FP = '/local/meliao/projects/invariant-random-features/data/qm7/qm7.mat'\n",
    "N_TRAIN = 500\n",
    "N_TEST = 100\n",
    "BATCH_SIZE = 128\n",
    "\n",
    "train_dset, val_dset, test_dset = load_and_align_QM7(fp=DATA_FP,\n",
    "                                                        n_train=N_TRAIN,\n",
    "                                                        n_test=N_TEST,\n",
    "                                                        validation_set_fraction=0.1)"
   ]
  },
  {
   "cell_type": "code",
   "execution_count": 4,
   "id": "c112f425",
   "metadata": {},
   "outputs": [],
   "source": [
    "train_loader = torch.utils.data.DataLoader(train_dset, batch_size=BATCH_SIZE, shuffle=True)\n",
    "val_loader = torch.utils.data.DataLoader(val_dset, batch_size=BATCH_SIZE, shuffle=True)\n",
    "test_loader = torch.utils.data.DataLoader(test_dset, batch_size=BATCH_SIZE, shuffle=True)"
   ]
  },
  {
   "cell_type": "markdown",
   "id": "b64727f6",
   "metadata": {},
   "source": [
    "# Compile model and optimizer"
   ]
  },
  {
   "cell_type": "code",
   "execution_count": 6,
   "id": "53c3f62b",
   "metadata": {},
   "outputs": [],
   "source": [
    "module = importlib.import_module('pointnet2_reg_msg')"
   ]
  },
  {
   "cell_type": "code",
   "execution_count": 8,
   "id": "8888a811",
   "metadata": {},
   "outputs": [
    {
     "ename": "NameError",
     "evalue": "name 'device' is not defined",
     "output_type": "error",
     "traceback": [
      "\u001b[0;31m---------------------------------------------------------------------------\u001b[0m",
      "\u001b[0;31mNameError\u001b[0m                                 Traceback (most recent call last)",
      "\u001b[0;32m<ipython-input-8-3007f73a4301>\u001b[0m in \u001b[0;36m<module>\u001b[0;34m\u001b[0m\n\u001b[1;32m     13\u001b[0m \u001b[0;34m'''MOVE EVERYTHING TO THE CORRECT DEVICE'''\u001b[0m\u001b[0;34m\u001b[0m\u001b[0;34m\u001b[0m\u001b[0m\n\u001b[1;32m     14\u001b[0m \u001b[0;34m\u001b[0m\u001b[0m\n\u001b[0;32m---> 15\u001b[0;31m \u001b[0mmodel\u001b[0m\u001b[0;34m.\u001b[0m\u001b[0mto\u001b[0m\u001b[0;34m(\u001b[0m\u001b[0mdevice\u001b[0m\u001b[0;34m)\u001b[0m\u001b[0;34m\u001b[0m\u001b[0;34m\u001b[0m\u001b[0m\n\u001b[0m\u001b[1;32m     16\u001b[0m \u001b[0mloss_fn\u001b[0m\u001b[0;34m.\u001b[0m\u001b[0mto\u001b[0m\u001b[0;34m(\u001b[0m\u001b[0mdevice\u001b[0m\u001b[0;34m)\u001b[0m\u001b[0;34m\u001b[0m\u001b[0;34m\u001b[0m\u001b[0m\n",
      "\u001b[0;31mNameError\u001b[0m: name 'device' is not defined"
     ]
    }
   ],
   "source": [
    "model = module.PointNet2MSGModel(n_centroids_1=10,\n",
    "                                        msg_radii_1=[2., 4., 8.],\n",
    "                                        msg_nsample_1=[4, 8, 16],\n",
    "                                        n_centroids_2=4,\n",
    "                                        msg_radii_2=[2., 4., 8.],\n",
    "                                        msg_nsample_2=[2, 4, 8],\n",
    "                                        in_channels=5,\n",
    "                                        out_channels=1)\n",
    "\n",
    "loss_fn = module.get_loss()\n",
    "\n",
    "\n",
    "'''MOVE EVERYTHING TO THE CORRECT DEVICE'''\n"
   ]
  },
  {
   "cell_type": "code",
   "execution_count": null,
   "id": "5eb9de27",
   "metadata": {},
   "outputs": [],
   "source": []
  },
  {
   "cell_type": "code",
   "execution_count": null,
   "id": "129c6419",
   "metadata": {},
   "outputs": [],
   "source": []
  },
  {
   "cell_type": "code",
   "execution_count": null,
   "id": "65cd6158",
   "metadata": {},
   "outputs": [],
   "source": []
  }
 ],
 "metadata": {
  "kernelspec": {
   "display_name": "Python 3",
   "language": "python",
   "name": "python3"
  },
  "language_info": {
   "codemirror_mode": {
    "name": "ipython",
    "version": 3
   },
   "file_extension": ".py",
   "mimetype": "text/x-python",
   "name": "python",
   "nbconvert_exporter": "python",
   "pygments_lexer": "ipython3",
   "version": "3.7.10"
  }
 },
 "nbformat": 4,
 "nbformat_minor": 5
}
